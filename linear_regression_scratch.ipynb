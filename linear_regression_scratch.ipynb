{
  "nbformat": 4,
  "nbformat_minor": 0,
  "metadata": {
    "colab": {
      "name": "linear regression scratch.ipynb",
      "provenance": [],
      "authorship_tag": "ABX9TyMoJ3afQwMNxuXLvt9+KWoK",
      "include_colab_link": true
    },
    "kernelspec": {
      "name": "python3",
      "display_name": "Python 3"
    },
    "language_info": {
      "name": "python"
    }
  },
  "cells": [
    {
      "cell_type": "markdown",
      "metadata": {
        "id": "view-in-github",
        "colab_type": "text"
      },
      "source": [
        "<a href=\"https://colab.research.google.com/github/Arbarbn/Statistics-and-Machine-Learning-HackerRank/blob/main/linear_regression_scratch.ipynb\" target=\"_parent\"><img src=\"https://colab.research.google.com/assets/colab-badge.svg\" alt=\"Open In Colab\"/></a>"
      ]
    },
    {
      "cell_type": "code",
      "execution_count": 3,
      "metadata": {
        "colab": {
          "base_uri": "https://localhost:8080/"
        },
        "id": "S9c6z9o9ZvFL",
        "outputId": "88a8300a-0d23-4cb8-961b-feb44f33e066"
      },
      "outputs": [
        {
          "output_type": "stream",
          "name": "stdout",
          "text": [
            "15.5\n"
          ]
        }
      ],
      "source": [
        "# Enter your code here. Read input from STDIN. Print output to STDOUT\n",
        "Phy = [15, 12, 8, 8, 7, 7, 7, 6, 5, 3]\n",
        "His = [10, 25, 17, 11, 13, 17, 20, 13, 9, 15]\n",
        "\n",
        "inp = 10\n",
        "def multiply(x,y):\n",
        "    result = []\n",
        "    for i in range(len(x)):\n",
        "        result.append(x[i]*y[i])\n",
        "    return result\n",
        "def intercept(x,y):\n",
        "    return ((sum(y)*sum(multiply(x,x)))-(sum(x)*sum(multiply(x,y))))/((len(x)*sum(multiply(x,x)))-(sum(x)**2))\n",
        "def slope(x,y): \n",
        "    return ((len(x)*sum(multiply(x,y)))-(sum(x)*sum(y)))/((len(x)*sum(multiply(x,x)))-(sum(x)**2))\n",
        "def predict(x) :\n",
        "    return intercept(Phy, His) + (x*slope(Phy,His))\n",
        "\n",
        "print(round(predict(inp),1))"
      ]
    },
    {
      "cell_type": "code",
      "source": [
        ""
      ],
      "metadata": {
        "id": "wY_onsYeZ7dI"
      },
      "execution_count": null,
      "outputs": []
    }
  ]
}