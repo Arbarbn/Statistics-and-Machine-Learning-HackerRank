{
  "nbformat": 4,
  "nbformat_minor": 0,
  "metadata": {
    "colab": {
      "name": "Predicting office space price.ipynb",
      "provenance": [],
      "collapsed_sections": [],
      "authorship_tag": "ABX9TyM3KIEZWi/35YLw0AkxuX9r",
      "include_colab_link": true
    },
    "kernelspec": {
      "name": "python3",
      "display_name": "Python 3"
    },
    "language_info": {
      "name": "python"
    }
  },
  "cells": [
    {
      "cell_type": "markdown",
      "metadata": {
        "id": "view-in-github",
        "colab_type": "text"
      },
      "source": [
        "<a href=\"https://colab.research.google.com/github/Arbarbn/Statistics-and-Machine-Learning-HackerRank/blob/main/Predicting_office_space_price.ipynb\" target=\"_parent\"><img src=\"https://colab.research.google.com/assets/colab-badge.svg\" alt=\"Open In Colab\"/></a>"
      ]
    },
    {
      "cell_type": "markdown",
      "source": [
        "The problem \n",
        "\n",
        "*   What will predict? Price per square foot\n",
        "*   Type table? contains F features with separated by single-space and N is number of rows \n",
        "*   Scoring using Normalized distance\n",
        "\n",
        "\n",
        "\n",
        "\n",
        "\n"
      ],
      "metadata": {
        "id": "pYr5ifUEr0y2"
      }
    },
    {
      "cell_type": "markdown",
      "source": [
        "# Polynomial Regression"
      ],
      "metadata": {
        "id": "gShTOn2Fuo7R"
      }
    },
    {
      "cell_type": "markdown",
      "source": [
        "First,  import libraries"
      ],
      "metadata": {
        "id": "lSU-on8Ht4wq"
      }
    },
    {
      "cell_type": "code",
      "execution_count": null,
      "metadata": {
        "id": "n-A-NU0GquZX"
      },
      "outputs": [],
      "source": [
        "from sklearn import linear_model\n",
        "from sklearn.preprocessing import PolynomialFeatures\n",
        "import numpy as np #array "
      ]
    },
    {
      "cell_type": "markdown",
      "source": [
        "Input data"
      ],
      "metadata": {
        "id": "E3K5Rwi5wP35"
      }
    },
    {
      "cell_type": "code",
      "source": [
        "features, rows = map(int, input().split())"
      ],
      "metadata": {
        "colab": {
          "base_uri": "https://localhost:8080/"
        },
        "id": "MzvXoE3bwMlv",
        "outputId": "e9623d18-6fbc-4973-b3c9-0cad5a46076c"
      },
      "execution_count": null,
      "outputs": [
        {
          "name": "stdout",
          "output_type": "stream",
          "text": [
            "2 100\n"
          ]
        }
      ]
    },
    {
      "cell_type": "markdown",
      "source": [
        "Split data to X and Y for training"
      ],
      "metadata": {
        "id": "c5d9JhsWyVlS"
      }
    },
    {
      "cell_type": "code",
      "source": [
        "X = []\n",
        "Y = []\n",
        "for i in range(rows):\n",
        "  x = []\n",
        "  elements = list(map(float, input().split()))\n",
        "  for j in range(features):\n",
        "    x.append(elements[j])\n",
        "  Y.append(elements[-1])"
      ],
      "metadata": {
        "id": "Y5yL5-qNwdQ9"
      },
      "execution_count": null,
      "outputs": []
    },
    {
      "cell_type": "markdown",
      "source": [
        "Set polynomial features"
      ],
      "metadata": {
        "id": "2yG5_zs7zQ6e"
      }
    },
    {
      "cell_type": "code",
      "source": [
        "poly = PolynomialFeatures(degree=3)"
      ],
      "metadata": {
        "id": "18sjXdOExoxj"
      },
      "execution_count": null,
      "outputs": []
    },
    {
      "cell_type": "markdown",
      "source": [
        "Set the model "
      ],
      "metadata": {
        "id": "Vlaig-8qzut7"
      }
    },
    {
      "cell_type": "code",
      "source": [
        "model = linear_model.LinearRegression()\n",
        "model.fit(poly.fit_transform(X, Y))"
      ],
      "metadata": {
        "id": "IaGc5MCTzbij"
      },
      "execution_count": null,
      "outputs": []
    },
    {
      "cell_type": "markdown",
      "source": [
        "Input for validation"
      ],
      "metadata": {
        "id": "sDRKxTBrzxCz"
      }
    },
    {
      "cell_type": "code",
      "source": [
        "inp = int(input())\n",
        "X_val = []\n",
        "for i in range(inp):\n",
        "  val = list(map(float, input().split()))\n",
        "  X_val.append(val)"
      ],
      "metadata": {
        "id": "UR-3bPOjz5iU"
      },
      "execution_count": null,
      "outputs": []
    },
    {
      "cell_type": "markdown",
      "source": [
        "Get the result"
      ],
      "metadata": {
        "id": "qWNfZnvg0c4b"
      }
    },
    {
      "cell_type": "code",
      "source": [
        "result = model.predict(poly.fit_transform(X_val))\n",
        "for i in range(len(result)):\n",
        "  print(round(result[i], 2))"
      ],
      "metadata": {
        "id": "c8NtSEC40e12"
      },
      "execution_count": null,
      "outputs": []
    }
  ]
}